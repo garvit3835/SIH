{
 "cells": [
  {
   "cell_type": "code",
   "execution_count": 13,
   "metadata": {},
   "outputs": [],
   "source": [
    "import face_recognition\n",
    "import numpy as np\n",
    "import cv2\n",
    "import time"
   ]
  },
  {
   "cell_type": "code",
   "execution_count": 15,
   "metadata": {},
   "outputs": [],
   "source": [
    "# Initialize some variables\n",
    "face_locations = []\n",
    "face_encodings = []\n",
    "face_names = []\n",
    "process_this_frame = True\n",
    "\n",
    "known_face_encodings = [\n",
    "]\n",
    "    \n",
    "known_face_names = [\n",
    "]\n"
   ]
  },
  {
   "cell_type": "code",
   "execution_count": 16,
   "metadata": {},
   "outputs": [],
   "source": [
    "def face_recong(Doctor_name):\n",
    "    image = face_recognition.load_image_file(r\"C:\\Users\\Public\\SIH\\ml-server\\Doctors\\{}.jpg\".format(Doctor_name))\n",
    "\n",
    "    face_encoding = face_recognition.face_encodings(image)[0]\n",
    "\n",
    "    known_face_encodings.append(face_encoding)\n",
    "    known_face_names.append(Doctor_name)\n"
   ]
  },
  {
   "cell_type": "code",
   "execution_count": 17,
   "metadata": {},
   "outputs": [],
   "source": [
    "face_recong(\"arnav\")\n",
    "face_recong(\"bradley\")"
   ]
  },
  {
   "cell_type": "code",
   "execution_count": 18,
   "metadata": {},
   "outputs": [],
   "source": [
    "import cv2\n",
    "import face_recognition\n",
    "import numpy as np\n",
    "import time  # Import the time module\n",
    "\n",
    "def find(id):\n",
    "    video_capture = cv2.VideoCapture(0)\n",
    "    check = False\n",
    "    last_print_time = 0  # Initialize the last print time\n",
    "    \n",
    "    while not check:\n",
    "        # Grab a single frame of video\n",
    "        ret, frame = video_capture.read()\n",
    "\n",
    "        # Resize frame of video to 1/4 size for faster face recognition processing\n",
    "        small_frame = cv2.resize(frame, (0, 0), fx=0.25, fy=0.25)\n",
    "        process_this_frame = True\n",
    "        if process_this_frame:\n",
    "            # Find all the faces and face encodings in the current frame of video\n",
    "            face_locations = face_recognition.face_locations(small_frame)\n",
    "            face_encodings = face_recognition.face_encodings(small_frame, face_locations)\n",
    "\n",
    "            face_names = []\n",
    "            for face_encoding in face_encodings:\n",
    "                # See if the face is a match for the known face(s)\n",
    "                matches = face_recognition.compare_faces(known_face_encodings, face_encoding)\n",
    "                name = \"Unknown\"\n",
    "\n",
    "                face_distances = face_recognition.face_distance(known_face_encodings, face_encoding)\n",
    "                best_match_index = np.argmin(face_distances)\n",
    "                if matches[best_match_index]:\n",
    "                    name = known_face_names[best_match_index]\n",
    "\n",
    "                if name==\"Unknown\":\n",
    "                    print(\"Please come near the camera\")\n",
    "\n",
    "                elif name!=id:\n",
    "                    current_time = time.time()\n",
    "                    # Check if 5 seconds have passed since the last print\n",
    "                    if current_time - last_print_time >= 2:\n",
    "                        print(\"Cant recongnize you\")\n",
    "                        last_print_time = current_time\n",
    "\n",
    "                if name == id:\n",
    "                    check = True\n",
    "\n",
    "        process_this_frame = not process_this_frame\n",
    "\n",
    "    return id == name\n",
    "\n",
    "\n",
    "\n"
   ]
  },
  {
   "cell_type": "code",
   "execution_count": 19,
   "metadata": {},
   "outputs": [
    {
     "data": {
      "text/plain": [
       "True"
      ]
     },
     "execution_count": 19,
     "metadata": {},
     "output_type": "execute_result"
    }
   ],
   "source": [
    "find(\"arnav\")"
   ]
  }
 ],
 "metadata": {
  "kernelspec": {
   "display_name": "Python 3",
   "language": "python",
   "name": "python3"
  },
  "language_info": {
   "codemirror_mode": {
    "name": "ipython",
    "version": 3
   },
   "file_extension": ".py",
   "mimetype": "text/x-python",
   "name": "python",
   "nbconvert_exporter": "python",
   "pygments_lexer": "ipython3",
   "version": "3.9.0"
  },
  "orig_nbformat": 4
 },
 "nbformat": 4,
 "nbformat_minor": 2
}
